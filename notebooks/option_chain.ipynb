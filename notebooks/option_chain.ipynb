{
 "cells": [
  {
   "cell_type": "markdown",
   "metadata": {},
   "source": [
    "Option chains\n",
    "======="
   ]
  },
  {
   "cell_type": "code",
   "execution_count": 1,
   "metadata": {
    "scrolled": true
   },
   "outputs": [
    {
     "data": {
      "text/plain": [
       "<IB connected to 127.0.0.1:4002 clientId=13>"
      ]
     },
     "execution_count": 1,
     "metadata": {},
     "output_type": "execute_result"
    }
   ],
   "source": [
    "from ib_insync import *\n",
    "util.startLoop()\n",
    "\n",
    "ib = IB()\n",
    "ib.connect('127.0.0.1', 4002, clientId=13)"
   ]
  },
  {
   "cell_type": "markdown",
   "metadata": {},
   "source": [
    "Suppose we want to find the options on the SPX, with the following conditions:\n",
    "\n",
    "* Use the next three monthly expiries;\n",
    "* Use strike prices within +- 20 dollar of the current SPX value;\n",
    "* Use strike prices that are a multitude of 5 dollar."
   ]
  },
  {
   "cell_type": "markdown",
   "metadata": {},
   "source": [
    "To get the current market value, first create a contract for the underlyer (the S&P 500 index):"
   ]
  },
  {
   "cell_type": "code",
   "execution_count": 2,
   "metadata": {},
   "outputs": [
    {
     "data": {
      "text/plain": [
       "[Index(conId=416904, symbol='SPX', exchange='CBOE', currency='USD', localSymbol='SPX')]"
      ]
     },
     "execution_count": 2,
     "metadata": {},
     "output_type": "execute_result"
    }
   ],
   "source": [
    "spx = Index('SPX', 'CBOE')\n",
    "ib.qualifyContracts(spx)"
   ]
  },
  {
   "cell_type": "markdown",
   "metadata": {},
   "source": [
    "To avoid issues with market data permissions, we'll use delayed data:"
   ]
  },
  {
   "cell_type": "code",
   "execution_count": 3,
   "metadata": {},
   "outputs": [],
   "source": [
    "ib.reqMarketDataType(4)"
   ]
  },
  {
   "cell_type": "markdown",
   "metadata": {},
   "source": [
    "Then get the ticker. Requesting a ticker can take up to 11 seconds."
   ]
  },
  {
   "cell_type": "code",
   "execution_count": 4,
   "metadata": {},
   "outputs": [
    {
     "data": {
      "text/plain": [
       "Ticker(contract=Index(conId=416904, symbol='SPX', exchange='CBOE', currency='USD', localSymbol='SPX'), time=datetime.datetime(2021, 10, 20, 1, 33, 12, 657570, tzinfo=datetime.timezone.utc), marketDataType=3, bid=-1.0, bidSize=0.0, ask=-1.0, askSize=0.0, last=4520.22, lastSize=1.0, high=4520.4, low=4496.41, close=4486.46)"
      ]
     },
     "execution_count": 4,
     "metadata": {},
     "output_type": "execute_result"
    }
   ],
   "source": [
    "[ticker] = ib.reqTickers(spx)\n",
    "ticker"
   ]
  },
  {
   "cell_type": "markdown",
   "metadata": {},
   "source": [
    "Take the current market value of the ticker:"
   ]
  },
  {
   "cell_type": "code",
   "execution_count": 5,
   "metadata": {},
   "outputs": [
    {
     "data": {
      "text/plain": [
       "4486.46"
      ]
     },
     "execution_count": 5,
     "metadata": {},
     "output_type": "execute_result"
    }
   ],
   "source": [
    "spxValue = ticker.marketPrice()\n",
    "spxValue"
   ]
  },
  {
   "cell_type": "markdown",
   "metadata": {},
   "source": [
    "The following request fetches a list of option chains:"
   ]
  },
  {
   "cell_type": "code",
   "execution_count": 6,
   "metadata": {},
   "outputs": [
    {
     "data": {
      "text/html": [
       "<div>\n",
       "<style scoped>\n",
       "    .dataframe tbody tr th:only-of-type {\n",
       "        vertical-align: middle;\n",
       "    }\n",
       "\n",
       "    .dataframe tbody tr th {\n",
       "        vertical-align: top;\n",
       "    }\n",
       "\n",
       "    .dataframe thead th {\n",
       "        text-align: right;\n",
       "    }\n",
       "</style>\n",
       "<table border=\"1\" class=\"dataframe\">\n",
       "  <thead>\n",
       "    <tr style=\"text-align: right;\">\n",
       "      <th></th>\n",
       "      <th>exchange</th>\n",
       "      <th>underlyingConId</th>\n",
       "      <th>tradingClass</th>\n",
       "      <th>multiplier</th>\n",
       "      <th>expirations</th>\n",
       "      <th>strikes</th>\n",
       "    </tr>\n",
       "  </thead>\n",
       "  <tbody>\n",
       "    <tr>\n",
       "      <th>0</th>\n",
       "      <td>SMART</td>\n",
       "      <td>416904</td>\n",
       "      <td>SPX</td>\n",
       "      <td>100</td>\n",
       "      <td>[20211118, 20211216, 20220120, 20220217, 20220...</td>\n",
       "      <td>[100.0, 200.0, 300.0, 400.0, 500.0, 600.0, 700...</td>\n",
       "    </tr>\n",
       "    <tr>\n",
       "      <th>1</th>\n",
       "      <td>CBOE</td>\n",
       "      <td>416904</td>\n",
       "      <td>SPXW</td>\n",
       "      <td>100</td>\n",
       "      <td>[20211020, 20211022, 20211025, 20211027, 20211...</td>\n",
       "      <td>[100.0, 200.0, 300.0, 400.0, 500.0, 600.0, 700...</td>\n",
       "    </tr>\n",
       "    <tr>\n",
       "      <th>2</th>\n",
       "      <td>SMART</td>\n",
       "      <td>416904</td>\n",
       "      <td>SPXW</td>\n",
       "      <td>100</td>\n",
       "      <td>[20211020, 20211022, 20211025, 20211027, 20211...</td>\n",
       "      <td>[100.0, 200.0, 300.0, 400.0, 500.0, 600.0, 700...</td>\n",
       "    </tr>\n",
       "    <tr>\n",
       "      <th>3</th>\n",
       "      <td>CBOE</td>\n",
       "      <td>416904</td>\n",
       "      <td>SPX</td>\n",
       "      <td>100</td>\n",
       "      <td>[20211118, 20211216, 20220120, 20220217, 20220...</td>\n",
       "      <td>[100.0, 200.0, 300.0, 400.0, 500.0, 600.0, 700...</td>\n",
       "    </tr>\n",
       "  </tbody>\n",
       "</table>\n",
       "</div>"
      ],
      "text/plain": [
       "  exchange underlyingConId tradingClass multiplier  \\\n",
       "0    SMART          416904          SPX        100   \n",
       "1     CBOE          416904         SPXW        100   \n",
       "2    SMART          416904         SPXW        100   \n",
       "3     CBOE          416904          SPX        100   \n",
       "\n",
       "                                         expirations  \\\n",
       "0  [20211118, 20211216, 20220120, 20220217, 20220...   \n",
       "1  [20211020, 20211022, 20211025, 20211027, 20211...   \n",
       "2  [20211020, 20211022, 20211025, 20211027, 20211...   \n",
       "3  [20211118, 20211216, 20220120, 20220217, 20220...   \n",
       "\n",
       "                                             strikes  \n",
       "0  [100.0, 200.0, 300.0, 400.0, 500.0, 600.0, 700...  \n",
       "1  [100.0, 200.0, 300.0, 400.0, 500.0, 600.0, 700...  \n",
       "2  [100.0, 200.0, 300.0, 400.0, 500.0, 600.0, 700...  \n",
       "3  [100.0, 200.0, 300.0, 400.0, 500.0, 600.0, 700...  "
      ]
     },
     "execution_count": 6,
     "metadata": {},
     "output_type": "execute_result"
    }
   ],
   "source": [
    "chains = ib.reqSecDefOptParams(spx.symbol, '', spx.secType, spx.conId)\n",
    "\n",
    "util.df(chains)"
   ]
  },
  {
   "cell_type": "markdown",
   "metadata": {},
   "source": [
    "These are four option chains that differ in ``exchange`` and ``tradingClass``. The latter is 'SPX' for the monthly and  'SPXW' for the weekly options. Note that the weekly expiries are disjoint from the monthly ones, so when interested in the weekly options the monthly options can be added as well.\n",
    "\n",
    "In this case we're only interested in the monthly options trading on SMART:"
   ]
  },
  {
   "cell_type": "code",
   "execution_count": 7,
   "metadata": {},
   "outputs": [
    {
     "data": {
      "text/plain": [
       "OptionChain(exchange='SMART', underlyingConId='416904', tradingClass='SPX', multiplier='100', expirations=['20211118', '20211216', '20220120', '20220217', '20220317', '20220413', '20220519', '20220616', '20220714', '20220818', '20220915', '20221020', '20221117', '20221215', '20230119', '20230615', '20231214'], strikes=[100.0, 200.0, 300.0, 400.0, 500.0, 600.0, 700.0, 800.0, 900.0, 1000.0, 1100.0, 1150.0, 1200.0, 1225.0, 1250.0, 1275.0, 1300.0, 1325.0, 1350.0, 1375.0, 1400.0, 1425.0, 1450.0, 1475.0, 1500.0, 1525.0, 1550.0, 1575.0, 1600.0, 1625.0, 1650.0, 1675.0, 1700.0, 1725.0, 1750.0, 1775.0, 1800.0, 1825.0, 1850.0, 1875.0, 1900.0, 1925.0, 1950.0, 1975.0, 2000.0, 2025.0, 2050.0, 2075.0, 2100.0, 2125.0, 2150.0, 2175.0, 2200.0, 2225.0, 2250.0, 2275.0, 2300.0, 2325.0, 2350.0, 2375.0, 2400.0, 2425.0, 2450.0, 2475.0, 2500.0, 2525.0, 2550.0, 2575.0, 2600.0, 2625.0, 2650.0, 2675.0, 2700.0, 2725.0, 2750.0, 2775.0, 2800.0, 2825.0, 2850.0, 2875.0, 2900.0, 2925.0, 2950.0, 2975.0, 3000.0, 3025.0, 3050.0, 3075.0, 3100.0, 3125.0, 3150.0, 3175.0, 3200.0, 3225.0, 3250.0, 3275.0, 3300.0, 3325.0, 3340.0, 3350.0, 3360.0, 3370.0, 3375.0, 3380.0, 3390.0, 3400.0, 3410.0, 3420.0, 3425.0, 3430.0, 3440.0, 3450.0, 3460.0, 3470.0, 3475.0, 3480.0, 3490.0, 3500.0, 3510.0, 3520.0, 3525.0, 3530.0, 3540.0, 3550.0, 3560.0, 3570.0, 3575.0, 3580.0, 3590.0, 3600.0, 3610.0, 3620.0, 3625.0, 3630.0, 3640.0, 3650.0, 3660.0, 3665.0, 3670.0, 3675.0, 3680.0, 3685.0, 3690.0, 3695.0, 3700.0, 3705.0, 3710.0, 3715.0, 3720.0, 3725.0, 3730.0, 3735.0, 3740.0, 3745.0, 3750.0, 3755.0, 3760.0, 3765.0, 3770.0, 3775.0, 3780.0, 3785.0, 3790.0, 3795.0, 3800.0, 3805.0, 3810.0, 3815.0, 3820.0, 3825.0, 3830.0, 3835.0, 3840.0, 3845.0, 3850.0, 3855.0, 3860.0, 3865.0, 3870.0, 3875.0, 3880.0, 3885.0, 3890.0, 3895.0, 3900.0, 3905.0, 3910.0, 3915.0, 3920.0, 3925.0, 3930.0, 3935.0, 3940.0, 3945.0, 3950.0, 3955.0, 3960.0, 3965.0, 3970.0, 3975.0, 3980.0, 3985.0, 3990.0, 3995.0, 4000.0, 4005.0, 4010.0, 4015.0, 4020.0, 4025.0, 4030.0, 4035.0, 4040.0, 4045.0, 4050.0, 4055.0, 4060.0, 4065.0, 4070.0, 4075.0, 4080.0, 4085.0, 4090.0, 4095.0, 4100.0, 4105.0, 4110.0, 4115.0, 4120.0, 4125.0, 4130.0, 4135.0, 4140.0, 4145.0, 4150.0, 4155.0, 4160.0, 4165.0, 4170.0, 4175.0, 4180.0, 4185.0, 4190.0, 4195.0, 4200.0, 4205.0, 4210.0, 4215.0, 4220.0, 4225.0, 4230.0, 4235.0, 4240.0, 4245.0, 4250.0, 4255.0, 4260.0, 4265.0, 4270.0, 4275.0, 4280.0, 4285.0, 4290.0, 4295.0, 4300.0, 4305.0, 4310.0, 4315.0, 4320.0, 4325.0, 4330.0, 4335.0, 4340.0, 4345.0, 4350.0, 4355.0, 4360.0, 4365.0, 4370.0, 4375.0, 4380.0, 4385.0, 4390.0, 4395.0, 4400.0, 4405.0, 4410.0, 4415.0, 4420.0, 4425.0, 4430.0, 4435.0, 4440.0, 4445.0, 4450.0, 4455.0, 4460.0, 4465.0, 4470.0, 4475.0, 4480.0, 4485.0, 4490.0, 4495.0, 4500.0, 4505.0, 4510.0, 4515.0, 4520.0, 4525.0, 4530.0, 4535.0, 4540.0, 4545.0, 4550.0, 4555.0, 4560.0, 4565.0, 4570.0, 4575.0, 4580.0, 4585.0, 4590.0, 4595.0, 4600.0, 4605.0, 4610.0, 4615.0, 4620.0, 4625.0, 4630.0, 4635.0, 4640.0, 4645.0, 4650.0, 4655.0, 4660.0, 4665.0, 4670.0, 4675.0, 4680.0, 4685.0, 4690.0, 4695.0, 4700.0, 4705.0, 4710.0, 4715.0, 4720.0, 4725.0, 4730.0, 4735.0, 4740.0, 4745.0, 4750.0, 4755.0, 4760.0, 4765.0, 4770.0, 4775.0, 4780.0, 4785.0, 4790.0, 4795.0, 4800.0, 4805.0, 4810.0, 4815.0, 4820.0, 4825.0, 4830.0, 4835.0, 4840.0, 4845.0, 4850.0, 4855.0, 4860.0, 4870.0, 4875.0, 4880.0, 4890.0, 4900.0, 4910.0, 4920.0, 4925.0, 4930.0, 4940.0, 4950.0, 4960.0, 4970.0, 4975.0, 4980.0, 4990.0, 5000.0, 5025.0, 5050.0, 5075.0, 5100.0, 5125.0, 5150.0, 5175.0, 5200.0, 5250.0, 5300.0, 5350.0, 5400.0, 5500.0, 5600.0, 5700.0, 5800.0, 5900.0, 6000.0, 6100.0, 6200.0, 6300.0, 6400.0, 6500.0, 6600.0, 6700.0, 6800.0, 6900.0, 7000.0, 7100.0, 7200.0, 7300.0, 7400.0, 7500.0, 7600.0])"
      ]
     },
     "execution_count": 7,
     "metadata": {},
     "output_type": "execute_result"
    }
   ],
   "source": [
    "chain = next(c for c in chains if c.tradingClass == 'SPX' and c.exchange == 'SMART')\n",
    "chain"
   ]
  },
  {
   "cell_type": "markdown",
   "metadata": {},
   "source": [
    "What we have here is the full matrix of expirations x strikes. From this we can build all the option contracts that meet our conditions:"
   ]
  },
  {
   "cell_type": "code",
   "execution_count": 8,
   "metadata": {},
   "outputs": [
    {
     "data": {
      "text/plain": [
       "48"
      ]
     },
     "execution_count": 8,
     "metadata": {},
     "output_type": "execute_result"
    }
   ],
   "source": [
    "strikes = [strike for strike in chain.strikes\n",
    "        if strike % 5 == 0\n",
    "        and spxValue - 20 < strike < spxValue + 20]\n",
    "expirations = sorted(exp for exp in chain.expirations)[:3]\n",
    "rights = ['P', 'C']\n",
    "\n",
    "contracts = [Option('SPX', expiration, strike, right, 'SMART', tradingClass='SPX')\n",
    "        for right in rights\n",
    "        for expiration in expirations\n",
    "        for strike in strikes]\n",
    "\n",
    "contracts = ib.qualifyContracts(*contracts)\n",
    "len(contracts)"
   ]
  },
  {
   "cell_type": "code",
   "execution_count": 9,
   "metadata": {},
   "outputs": [
    {
     "data": {
      "text/plain": [
       "Option(conId=498436925, symbol='SPX', lastTradeDateOrContractMonth='20211118', strike=4470.0, right='P', multiplier='100', exchange='SMART', currency='USD', localSymbol='SPX   211119P04470000', tradingClass='SPX')"
      ]
     },
     "execution_count": 9,
     "metadata": {},
     "output_type": "execute_result"
    }
   ],
   "source": [
    "contracts[0]"
   ]
  },
  {
   "cell_type": "markdown",
   "metadata": {},
   "source": [
    "Now to get the market data for all options in one go:"
   ]
  },
  {
   "cell_type": "code",
   "execution_count": 10,
   "metadata": {},
   "outputs": [
    {
     "name": "stderr",
     "output_type": "stream",
     "text": [
      "Error 10090, reqId 101: Part of requested market data is not subscribed. Subscription-independent ticks are still active.Delayed market data is available.SPX S&P 500 Stock Index/TOP/ALL, contract: Option(conId=521453596, symbol='SPX', lastTradeDateOrContractMonth='20220120', strike=4505.0, right='C', multiplier='100', exchange='SMART', currency='USD', localSymbol='SPX   220121C04505000', tradingClass='SPX')\n",
      "Error 10090, reqId 99: Part of requested market data is not subscribed. Subscription-independent ticks are still active.Delayed market data is available.SPX S&P 500 Stock Index/TOP/ALL, contract: Option(conId=521453590, symbol='SPX', lastTradeDateOrContractMonth='20220120', strike=4495.0, right='C', multiplier='100', exchange='SMART', currency='USD', localSymbol='SPX   220121C04495000', tradingClass='SPX')\n",
      "Error 10090, reqId 100: Part of requested market data is not subscribed. Subscription-independent ticks are still active.Delayed market data is available.SPX S&P 500 Stock Index/TOP/ALL, contract: Option(conId=461796989, symbol='SPX', lastTradeDateOrContractMonth='20220120', strike=4500.0, right='C', multiplier='100', exchange='SMART', currency='USD', localSymbol='SPX   220121C04500000', tradingClass='SPX')\n",
      "Error 10197, reqId 96: No market data during competing live session, contract: Option(conId=504569807, symbol='SPX', lastTradeDateOrContractMonth='20220120', strike=4480.0, right='C', multiplier='100', exchange='SMART', currency='USD', localSymbol='SPX   220121C04480000', tradingClass='SPX')\n",
      "Error 10197, reqId 94: No market data during competing live session, contract: Option(conId=504569797, symbol='SPX', lastTradeDateOrContractMonth='20220120', strike=4470.0, right='C', multiplier='100', exchange='SMART', currency='USD', localSymbol='SPX   220121C04470000', tradingClass='SPX')\n",
      "Error 10197, reqId 60: No market data during competing live session, contract: Option(conId=476672612, symbol='SPX', lastTradeDateOrContractMonth='20211118', strike=4500.0, right='P', multiplier='100', exchange='SMART', currency='USD', localSymbol='SPX   211119P04500000', tradingClass='SPX')\n",
      "Error 10197, reqId 100: No market data during competing live session\n",
      "Error 10197, reqId 81: No market data during competing live session, contract: Option(conId=514498436, symbol='SPX', lastTradeDateOrContractMonth='20211118', strike=4485.0, right='C', multiplier='100', exchange='SMART', currency='USD', localSymbol='SPX   211119C04485000', tradingClass='SPX')\n",
      "Error 10197, reqId 86: No market data during competing live session, contract: Option(conId=504566418, symbol='SPX', lastTradeDateOrContractMonth='20211216', strike=4470.0, right='C', multiplier='100', exchange='SMART', currency='USD', localSymbol='SPX   211217C04470000', tradingClass='SPX')\n",
      "Error 10197, reqId 88: No market data during competing live session, contract: Option(conId=504566424, symbol='SPX', lastTradeDateOrContractMonth='20211216', strike=4480.0, right='C', multiplier='100', exchange='SMART', currency='USD', localSymbol='SPX   211217C04480000', tradingClass='SPX')\n",
      "Error 10197, reqId 79: No market data during competing live session, contract: Option(conId=476672153, symbol='SPX', lastTradeDateOrContractMonth='20211118', strike=4475.0, right='C', multiplier='100', exchange='SMART', currency='USD', localSymbol='SPX   211119C04475000', tradingClass='SPX')\n",
      "Error 10197, reqId 87: No market data during competing live session, contract: Option(conId=470325042, symbol='SPX', lastTradeDateOrContractMonth='20211216', strike=4475.0, right='C', multiplier='100', exchange='SMART', currency='USD', localSymbol='SPX   211217C04475000', tradingClass='SPX')\n",
      "Error 10197, reqId 77: No market data during competing live session, contract: Option(conId=521454230, symbol='SPX', lastTradeDateOrContractMonth='20220120', strike=4505.0, right='P', multiplier='100', exchange='SMART', currency='USD', localSymbol='SPX   220121P04505000', tradingClass='SPX')\n",
      "Error 10197, reqId 63: No market data during competing live session, contract: Option(conId=470325047, symbol='SPX', lastTradeDateOrContractMonth='20211216', strike=4475.0, right='P', multiplier='100', exchange='SMART', currency='USD', localSymbol='SPX   211217P04475000', tradingClass='SPX')\n",
      "Error 10197, reqId 67: No market data during competing live session, contract: Option(conId=513415807, symbol='SPX', lastTradeDateOrContractMonth='20211216', strike=4495.0, right='P', multiplier='100', exchange='SMART', currency='USD', localSymbol='SPX   211217P04495000', tradingClass='SPX')\n",
      "Error 10197, reqId 62: No market data during competing live session, contract: Option(conId=504568285, symbol='SPX', lastTradeDateOrContractMonth='20211216', strike=4470.0, right='P', multiplier='100', exchange='SMART', currency='USD', localSymbol='SPX   211217P04470000', tradingClass='SPX')\n",
      "Error 10197, reqId 97: No market data during competing live session, contract: Option(conId=521453581, symbol='SPX', lastTradeDateOrContractMonth='20220120', strike=4485.0, right='C', multiplier='100', exchange='SMART', currency='USD', localSymbol='SPX   220121C04485000', tradingClass='SPX')\n",
      "Error 10197, reqId 73: No market data during competing live session, contract: Option(conId=521454215, symbol='SPX', lastTradeDateOrContractMonth='20220120', strike=4485.0, right='P', multiplier='100', exchange='SMART', currency='USD', localSymbol='SPX   220121P04485000', tradingClass='SPX')\n",
      "Error 10197, reqId 58: No market data during competing live session, contract: Option(conId=498436933, symbol='SPX', lastTradeDateOrContractMonth='20211118', strike=4490.0, right='P', multiplier='100', exchange='SMART', currency='USD', localSymbol='SPX   211119P04490000', tradingClass='SPX')\n",
      "Error 10197, reqId 99: No market data during competing live session\n",
      "Error 10197, reqId 66: No market data during competing live session, contract: Option(conId=504568323, symbol='SPX', lastTradeDateOrContractMonth='20211216', strike=4490.0, right='P', multiplier='100', exchange='SMART', currency='USD', localSymbol='SPX   211217P04490000', tradingClass='SPX')\n",
      "Error 10197, reqId 95: No market data during competing live session, contract: Option(conId=470325048, symbol='SPX', lastTradeDateOrContractMonth='20220120', strike=4475.0, right='C', multiplier='100', exchange='SMART', currency='USD', localSymbol='SPX   220121C04475000', tradingClass='SPX')\n",
      "Error 10197, reqId 91: No market data during competing live session, contract: Option(conId=513415756, symbol='SPX', lastTradeDateOrContractMonth='20211216', strike=4495.0, right='C', multiplier='100', exchange='SMART', currency='USD', localSymbol='SPX   211217C04495000', tradingClass='SPX')\n",
      "Error 10197, reqId 75: No market data during competing live session, contract: Option(conId=521454221, symbol='SPX', lastTradeDateOrContractMonth='20220120', strike=4495.0, right='P', multiplier='100', exchange='SMART', currency='USD', localSymbol='SPX   220121P04495000', tradingClass='SPX')\n",
      "Error 10197, reqId 76: No market data during competing live session, contract: Option(conId=461797445, symbol='SPX', lastTradeDateOrContractMonth='20220120', strike=4500.0, right='P', multiplier='100', exchange='SMART', currency='USD', localSymbol='SPX   220121P04500000', tradingClass='SPX')\n",
      "Error 10197, reqId 57: No market data during competing live session, contract: Option(conId=514499525, symbol='SPX', lastTradeDateOrContractMonth='20211118', strike=4485.0, right='P', multiplier='100', exchange='SMART', currency='USD', localSymbol='SPX   211119P04485000', tradingClass='SPX')\n",
      "Error 10197, reqId 85: No market data during competing live session, contract: Option(conId=514498467, symbol='SPX', lastTradeDateOrContractMonth='20211118', strike=4505.0, right='C', multiplier='100', exchange='SMART', currency='USD', localSymbol='SPX   211119C04505000', tradingClass='SPX')\n",
      "Error 10197, reqId 82: No market data during competing live session, contract: Option(conId=498436524, symbol='SPX', lastTradeDateOrContractMonth='20211118', strike=4490.0, right='C', multiplier='100', exchange='SMART', currency='USD', localSymbol='SPX   211119C04490000', tradingClass='SPX')\n",
      "Error 10197, reqId 84: No market data during competing live session, contract: Option(conId=476672156, symbol='SPX', lastTradeDateOrContractMonth='20211118', strike=4500.0, right='C', multiplier='100', exchange='SMART', currency='USD', localSymbol='SPX   211119C04500000', tradingClass='SPX')\n",
      "Error 10197, reqId 92: No market data during competing live session, contract: Option(conId=392132145, symbol='SPX', lastTradeDateOrContractMonth='20211216', strike=4500.0, right='C', multiplier='100', exchange='SMART', currency='USD', localSymbol='SPX   211217C04500000', tradingClass='SPX')\n",
      "Error 10197, reqId 68: No market data during competing live session, contract: Option(conId=392132158, symbol='SPX', lastTradeDateOrContractMonth='20211216', strike=4500.0, right='P', multiplier='100', exchange='SMART', currency='USD', localSymbol='SPX   211217P04500000', tradingClass='SPX')\n",
      "Error 10197, reqId 98: No market data during competing live session, contract: Option(conId=504569822, symbol='SPX', lastTradeDateOrContractMonth='20220120', strike=4490.0, right='C', multiplier='100', exchange='SMART', currency='USD', localSymbol='SPX   220121C04490000', tradingClass='SPX')\n",
      "Error 10197, reqId 55: No market data during competing live session, contract: Option(conId=476672609, symbol='SPX', lastTradeDateOrContractMonth='20211118', strike=4475.0, right='P', multiplier='100', exchange='SMART', currency='USD', localSymbol='SPX   211119P04475000', tradingClass='SPX')\n",
      "Error 10197, reqId 83: No market data during competing live session, contract: Option(conId=514498453, symbol='SPX', lastTradeDateOrContractMonth='20211118', strike=4495.0, right='C', multiplier='100', exchange='SMART', currency='USD', localSymbol='SPX   211119C04495000', tradingClass='SPX')\n",
      "Error 10197, reqId 71: No market data during competing live session, contract: Option(conId=470325056, symbol='SPX', lastTradeDateOrContractMonth='20220120', strike=4475.0, right='P', multiplier='100', exchange='SMART', currency='USD', localSymbol='SPX   220121P04475000', tradingClass='SPX')\n",
      "Error 10197, reqId 54: No market data during competing live session, contract: Option(conId=498436925, symbol='SPX', lastTradeDateOrContractMonth='20211118', strike=4470.0, right='P', multiplier='100', exchange='SMART', currency='USD', localSymbol='SPX   211119P04470000', tradingClass='SPX')\n",
      "Error 10197, reqId 72: No market data during competing live session, contract: Option(conId=504571071, symbol='SPX', lastTradeDateOrContractMonth='20220120', strike=4480.0, right='P', multiplier='100', exchange='SMART', currency='USD', localSymbol='SPX   220121P04480000', tradingClass='SPX')\n",
      "Error 10197, reqId 74: No market data during competing live session, contract: Option(conId=504571080, symbol='SPX', lastTradeDateOrContractMonth='20220120', strike=4490.0, right='P', multiplier='100', exchange='SMART', currency='USD', localSymbol='SPX   220121P04490000', tradingClass='SPX')\n",
      "Error 10197, reqId 101: No market data during competing live session\n",
      "Error 10197, reqId 89: No market data during competing live session, contract: Option(conId=513415548, symbol='SPX', lastTradeDateOrContractMonth='20211216', strike=4485.0, right='C', multiplier='100', exchange='SMART', currency='USD', localSymbol='SPX   211217C04485000', tradingClass='SPX')\n",
      "Error 10197, reqId 65: No market data during competing live session, contract: Option(conId=513415797, symbol='SPX', lastTradeDateOrContractMonth='20211216', strike=4485.0, right='P', multiplier='100', exchange='SMART', currency='USD', localSymbol='SPX   211217P04485000', tradingClass='SPX')\n",
      "Error 10197, reqId 70: No market data during competing live session, contract: Option(conId=504571056, symbol='SPX', lastTradeDateOrContractMonth='20220120', strike=4470.0, right='P', multiplier='100', exchange='SMART', currency='USD', localSymbol='SPX   220121P04470000', tradingClass='SPX')\n",
      "Error 10197, reqId 93: No market data during competing live session, contract: Option(conId=513415773, symbol='SPX', lastTradeDateOrContractMonth='20211216', strike=4505.0, right='C', multiplier='100', exchange='SMART', currency='USD', localSymbol='SPX   211217C04505000', tradingClass='SPX')\n",
      "Error 10197, reqId 78: No market data during competing live session, contract: Option(conId=498436518, symbol='SPX', lastTradeDateOrContractMonth='20211118', strike=4470.0, right='C', multiplier='100', exchange='SMART', currency='USD', localSymbol='SPX   211119C04470000', tradingClass='SPX')\n",
      "Error 10197, reqId 90: No market data during competing live session, contract: Option(conId=504566433, symbol='SPX', lastTradeDateOrContractMonth='20211216', strike=4490.0, right='C', multiplier='100', exchange='SMART', currency='USD', localSymbol='SPX   211217C04490000', tradingClass='SPX')\n",
      "Error 10197, reqId 64: No market data during competing live session, contract: Option(conId=504568304, symbol='SPX', lastTradeDateOrContractMonth='20211216', strike=4480.0, right='P', multiplier='100', exchange='SMART', currency='USD', localSymbol='SPX   211217P04480000', tradingClass='SPX')\n",
      "Error 10197, reqId 56: No market data during competing live session, contract: Option(conId=498436928, symbol='SPX', lastTradeDateOrContractMonth='20211118', strike=4480.0, right='P', multiplier='100', exchange='SMART', currency='USD', localSymbol='SPX   211119P04480000', tradingClass='SPX')\n",
      "Error 10197, reqId 80: No market data during competing live session, contract: Option(conId=498436521, symbol='SPX', lastTradeDateOrContractMonth='20211118', strike=4480.0, right='C', multiplier='100', exchange='SMART', currency='USD', localSymbol='SPX   211119C04480000', tradingClass='SPX')\n",
      "Error 10197, reqId 59: No market data during competing live session, contract: Option(conId=514499535, symbol='SPX', lastTradeDateOrContractMonth='20211118', strike=4495.0, right='P', multiplier='100', exchange='SMART', currency='USD', localSymbol='SPX   211119P04495000', tradingClass='SPX')\n",
      "Error 10197, reqId 69: No market data during competing live session, contract: Option(conId=513415823, symbol='SPX', lastTradeDateOrContractMonth='20211216', strike=4505.0, right='P', multiplier='100', exchange='SMART', currency='USD', localSymbol='SPX   211217P04505000', tradingClass='SPX')\n",
      "Error 10197, reqId 61: No market data during competing live session, contract: Option(conId=514499559, symbol='SPX', lastTradeDateOrContractMonth='20211118', strike=4505.0, right='P', multiplier='100', exchange='SMART', currency='USD', localSymbol='SPX   211119P04505000', tradingClass='SPX')\n"
     ]
    },
    {
     "data": {
      "text/plain": [
       "Ticker(contract=Option(conId=498436925, symbol='SPX', lastTradeDateOrContractMonth='20211118', strike=4470.0, right='P', multiplier='100', exchange='SMART', currency='USD', localSymbol='SPX   211119P04470000', tradingClass='SPX'))"
      ]
     },
     "execution_count": 10,
     "metadata": {},
     "output_type": "execute_result"
    },
    {
     "name": "stderr",
     "output_type": "stream",
     "text": [
      "Error 10090, reqId 57: Part of requested market data is not subscribed. Subscription-independent ticks are still active.Delayed market data is available.SPX S&P 500 Stock Index/TOP/ALL\n",
      "Error 10090, reqId 58: Part of requested market data is not subscribed. Subscription-independent ticks are still active.Delayed market data is available.SPX S&P 500 Stock Index/TOP/ALL\n",
      "Error 10090, reqId 59: Part of requested market data is not subscribed. Subscription-independent ticks are still active.Delayed market data is available.SPX S&P 500 Stock Index/TOP/ALL\n",
      "Error 10090, reqId 61: Part of requested market data is not subscribed. Subscription-independent ticks are still active.Delayed market data is available.SPX S&P 500 Stock Index/TOP/ALL\n",
      "Error 10090, reqId 60: Part of requested market data is not subscribed. Subscription-independent ticks are still active.Delayed market data is available.SPX S&P 500 Stock Index/TOP/ALL\n",
      "Error 10090, reqId 67: Part of requested market data is not subscribed. Subscription-independent ticks are still active.Delayed market data is available.SPX S&P 500 Stock Index/TOP/ALL\n",
      "Error 10090, reqId 65: Part of requested market data is not subscribed. Subscription-independent ticks are still active.Delayed market data is available.SPX S&P 500 Stock Index/TOP/ALL\n",
      "Error 10090, reqId 66: Part of requested market data is not subscribed. Subscription-independent ticks are still active.Delayed market data is available.SPX S&P 500 Stock Index/TOP/ALL\n",
      "Error 10090, reqId 68: Part of requested market data is not subscribed. Subscription-independent ticks are still active.Delayed market data is available.SPX S&P 500 Stock Index/TOP/ALL\n",
      "Error 10090, reqId 64: Part of requested market data is not subscribed. Subscription-independent ticks are still active.Delayed market data is available.SPX S&P 500 Stock Index/TOP/ALL\n",
      "Error 10090, reqId 62: Part of requested market data is not subscribed. Subscription-independent ticks are still active.Delayed market data is available.SPX S&P 500 Stock Index/TOP/ALL\n",
      "Error 10090, reqId 63: Part of requested market data is not subscribed. Subscription-independent ticks are still active.Delayed market data is available.SPX S&P 500 Stock Index/TOP/ALL\n",
      "Error 10090, reqId 56: Part of requested market data is not subscribed. Subscription-independent ticks are still active.Delayed market data is available.SPX S&P 500 Stock Index/TOP/ALL\n",
      "Error 10090, reqId 54: Part of requested market data is not subscribed. Subscription-independent ticks are still active.Delayed market data is available.SPX S&P 500 Stock Index/TOP/ALL\n",
      "Error 10090, reqId 55: Part of requested market data is not subscribed. Subscription-independent ticks are still active.Delayed market data is available.SPX S&P 500 Stock Index/TOP/ALL\n"
     ]
    }
   ],
   "source": [
    "tickers = ib.reqTickers(*contracts)\n",
    "\n",
    "tickers[0]"
   ]
  },
  {
   "cell_type": "markdown",
   "metadata": {},
   "source": [
    "The option greeks are available from the ``modelGreeks`` attribute, and if there is a bid, ask resp. last price available also from ``bidGreeks``, ``askGreeks`` and ``lastGreeks``. For streaming ticks the greek values will be kept up to date to the current market situation."
   ]
  },
  {
   "cell_type": "code",
   "execution_count": 11,
   "metadata": {},
   "outputs": [],
   "source": [
    "ib.disconnect()"
   ]
  },
  {
   "cell_type": "code",
   "execution_count": null,
   "metadata": {},
   "outputs": [],
   "source": []
  }
 ],
 "metadata": {
  "kernelspec": {
   "display_name": "Python 3",
   "language": "python",
   "name": "python3"
  },
  "language_info": {
   "codemirror_mode": {
    "name": "ipython",
    "version": 3
   },
   "file_extension": ".py",
   "mimetype": "text/x-python",
   "name": "python",
   "nbconvert_exporter": "python",
   "pygments_lexer": "ipython3",
   "version": "3.8.0"
  }
 },
 "nbformat": 4,
 "nbformat_minor": 4
}
