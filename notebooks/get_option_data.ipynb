{
 "cells": [
  {
   "cell_type": "code",
   "execution_count": 77,
   "id": "2812f560-0008-4028-b518-cef9b100aafc",
   "metadata": {},
   "outputs": [],
   "source": [
    "import pandas as pd\n",
    "from ib_insync import *"
   ]
  },
  {
   "cell_type": "markdown",
   "id": "fe474d14-4507-4e02-80aa-f4f140bc1e82",
   "metadata": {},
   "source": [
    "*Note that startLoop() only works in notebooks, not in regular Python programs.*"
   ]
  },
  {
   "cell_type": "code",
   "execution_count": 78,
   "id": "c76810b3-1038-49e8-9cae-55837a02f614",
   "metadata": {},
   "outputs": [],
   "source": [
    "util.startLoop()"
   ]
  },
  {
   "cell_type": "markdown",
   "id": "c5b9ef9a-696f-40be-9d6e-9f7778471cc9",
   "metadata": {},
   "source": [
    "### Connecting\n",
    "The main player of the whole package is the \"IB\" class. Let's create an IB instance and connect to a running TWS/IBG application:"
   ]
  },
  {
   "cell_type": "code",
   "execution_count": 79,
   "id": "b5d7267b-acbd-45b9-9faa-1a6e3601692d",
   "metadata": {},
   "outputs": [
    {
     "name": "stderr",
     "output_type": "stream",
     "text": [
      "Error 322, reqId 2: Error processing request.-'cc' : cause - jextend.cc.n(cc.java:310)\n"
     ]
    },
    {
     "data": {
      "text/plain": [
       "<IB connected to 127.0.0.1:7496 clientId=2>"
      ]
     },
     "execution_count": 79,
     "metadata": {},
     "output_type": "execute_result"
    },
    {
     "name": "stderr",
     "output_type": "stream",
     "text": [
      "Peer closed connection.\n"
     ]
    }
   ],
   "source": [
    "ib = IB()\n",
    "# connect to IB Gateway Paper account\n",
    "#ib.connect('127.0.0.1', 4002, clientId=2)\n",
    "# connect to TWS\n",
    "ib.connect('127.0.0.1', 7496, clientId=2)"
   ]
  },
  {
   "cell_type": "markdown",
   "id": "d97db239-1af4-4c6a-812b-bd7c107287ee",
   "metadata": {},
   "source": [
    "classib_insync.contract.Option(symbol='', lastTradeDateOrContractMonth='', strike=0.0, right='', exchange='', multiplier='', currency='', **kwargs)"
   ]
  },
  {
   "cell_type": "code",
   "execution_count": 69,
   "id": "bc67e4a1-583e-45a2-88d9-f97deb753498",
   "metadata": {},
   "outputs": [],
   "source": [
    "contract = Option('GSL', '20220318', 30, 'C', 'SMART')\n",
    "ret = ib.reqContractDetails(contract)"
   ]
  },
  {
   "cell_type": "code",
   "execution_count": 70,
   "id": "875790a2-baa6-4ca5-b1a3-58a526cfa9d8",
   "metadata": {},
   "outputs": [],
   "source": [
    "df = pd.DataFrame(ret)"
   ]
  },
  {
   "cell_type": "code",
   "execution_count": 71,
   "id": "6d31fa29-30d7-4c0e-a384-568d1289642d",
   "metadata": {},
   "outputs": [
    {
     "data": {
      "text/html": [
       "<div>\n",
       "<style scoped>\n",
       "    .dataframe tbody tr th:only-of-type {\n",
       "        vertical-align: middle;\n",
       "    }\n",
       "\n",
       "    .dataframe tbody tr th {\n",
       "        vertical-align: top;\n",
       "    }\n",
       "\n",
       "    .dataframe thead th {\n",
       "        text-align: right;\n",
       "    }\n",
       "</style>\n",
       "<table border=\"1\" class=\"dataframe\">\n",
       "  <thead>\n",
       "    <tr style=\"text-align: right;\">\n",
       "      <th></th>\n",
       "      <th>contract</th>\n",
       "      <th>marketName</th>\n",
       "      <th>minTick</th>\n",
       "      <th>sizeMinTick</th>\n",
       "      <th>orderTypes</th>\n",
       "      <th>validExchanges</th>\n",
       "      <th>priceMagnifier</th>\n",
       "      <th>underConId</th>\n",
       "      <th>longName</th>\n",
       "      <th>contractMonth</th>\n",
       "      <th>...</th>\n",
       "      <th>callable</th>\n",
       "      <th>putable</th>\n",
       "      <th>coupon</th>\n",
       "      <th>convertible</th>\n",
       "      <th>maturity</th>\n",
       "      <th>issueDate</th>\n",
       "      <th>nextOptionDate</th>\n",
       "      <th>nextOptionType</th>\n",
       "      <th>nextOptionPartial</th>\n",
       "      <th>notes</th>\n",
       "    </tr>\n",
       "  </thead>\n",
       "  <tbody>\n",
       "    <tr>\n",
       "      <th>0</th>\n",
       "      <td>{'secType': 'OPT', 'conId': 502298633, 'symbol...</td>\n",
       "      <td>GSL</td>\n",
       "      <td>0.01</td>\n",
       "      <td>1.0</td>\n",
       "      <td>ACTIVETIM,AD,ADJUST,ALERT,ALGO,ALLOC,AVGCOST,B...</td>\n",
       "      <td>SMART,AMEX,CBOE,PHLX,PSE,ISE,BATS,NASDAQOM,CBO...</td>\n",
       "      <td>1</td>\n",
       "      <td>358162268</td>\n",
       "      <td>GLOBAL SHIP LEASE INC-CL A</td>\n",
       "      <td>202203</td>\n",
       "      <td>...</td>\n",
       "      <td>False</td>\n",
       "      <td>False</td>\n",
       "      <td>0</td>\n",
       "      <td>False</td>\n",
       "      <td></td>\n",
       "      <td></td>\n",
       "      <td></td>\n",
       "      <td></td>\n",
       "      <td>False</td>\n",
       "      <td></td>\n",
       "    </tr>\n",
       "  </tbody>\n",
       "</table>\n",
       "<p>1 rows × 42 columns</p>\n",
       "</div>"
      ],
      "text/plain": [
       "                                            contract marketName  minTick  \\\n",
       "0  {'secType': 'OPT', 'conId': 502298633, 'symbol...        GSL     0.01   \n",
       "\n",
       "   sizeMinTick                                         orderTypes  \\\n",
       "0          1.0  ACTIVETIM,AD,ADJUST,ALERT,ALGO,ALLOC,AVGCOST,B...   \n",
       "\n",
       "                                      validExchanges  priceMagnifier  \\\n",
       "0  SMART,AMEX,CBOE,PHLX,PSE,ISE,BATS,NASDAQOM,CBO...               1   \n",
       "\n",
       "   underConId                    longName contractMonth  ... callable putable  \\\n",
       "0   358162268  GLOBAL SHIP LEASE INC-CL A        202203  ...    False   False   \n",
       "\n",
       "  coupon convertible maturity issueDate nextOptionDate  nextOptionType  \\\n",
       "0      0       False                                                     \n",
       "\n",
       "   nextOptionPartial  notes  \n",
       "0              False         \n",
       "\n",
       "[1 rows x 42 columns]"
      ]
     },
     "execution_count": 71,
     "metadata": {},
     "output_type": "execute_result"
    }
   ],
   "source": [
    "df"
   ]
  },
  {
   "cell_type": "code",
   "execution_count": 72,
   "id": "c9aaad6c-72ed-4ef3-83d3-da36a19d18e6",
   "metadata": {},
   "outputs": [
    {
     "data": {
      "text/plain": [
       "'GSL'"
      ]
     },
     "execution_count": 72,
     "metadata": {},
     "output_type": "execute_result"
    }
   ],
   "source": [
    "ret[0].marketName"
   ]
  },
  {
   "cell_type": "code",
   "execution_count": 73,
   "id": "4efa4a39-b926-4182-949b-59b3d4419b7a",
   "metadata": {},
   "outputs": [
    {
     "name": "stderr",
     "output_type": "stream",
     "text": [
      "Error 354, reqId 4: Requested market data is not subscribed.Delayed market data is available.Error&BEST/OPT/Top&BEST/OPT/Top, contract: Option(symbol='GSL', lastTradeDateOrContractMonth='20220318', strike=30, right='C', exchange='SMART')\n"
     ]
    }
   ],
   "source": [
    "details=ib.reqTickers(contract)"
   ]
  },
  {
   "cell_type": "code",
   "execution_count": 75,
   "id": "755cc43d-460f-4616-8700-2728d69cff85",
   "metadata": {},
   "outputs": [
    {
     "name": "stderr",
     "output_type": "stream",
     "text": [
      "Error 162, reqId 6: Historical Market Data Service error message:No market data permissions for NYSE STK, contract: Stock(symbol='GSL', exchange='SMART', currency='USD')\n"
     ]
    }
   ],
   "source": [
    "contract = Stock('GSL', 'SMART', 'USD')\n",
    "\n",
    "dt = ''\n",
    "barsList = []\n",
    "while True:\n",
    "    bars = ib.reqHistoricalData(\n",
    "        contract,\n",
    "        endDateTime=dt,\n",
    "        durationStr='2 D',\n",
    "        barSizeSetting='30 mins',\n",
    "        whatToShow='MIDPOINT',\n",
    "        useRTH=True,\n",
    "        formatDate=1)\n",
    "    if not bars:\n",
    "        break\n",
    "    barsList.append(bars)\n",
    "    dt = bars[0].date\n",
    "    print(dt)"
   ]
  },
  {
   "cell_type": "markdown",
   "id": "e7d01f72-eadf-4487-b237-e14f4086b157",
   "metadata": {},
   "source": [
    "### Disconnecting\n",
    "\n",
    "The following will disconnect ``ib`` and clear all its state:"
   ]
  },
  {
   "cell_type": "code",
   "execution_count": 76,
   "id": "a938d399-2acb-488e-af12-65a835d72db0",
   "metadata": {},
   "outputs": [],
   "source": [
    "ib.disconnect()"
   ]
  },
  {
   "cell_type": "code",
   "execution_count": null,
   "id": "6853d51e-7fca-4144-a39d-bb24fe36d881",
   "metadata": {},
   "outputs": [],
   "source": []
  }
 ],
 "metadata": {
  "kernelspec": {
   "display_name": "Python 3",
   "language": "python",
   "name": "python3"
  },
  "language_info": {
   "codemirror_mode": {
    "name": "ipython",
    "version": 3
   },
   "file_extension": ".py",
   "mimetype": "text/x-python",
   "name": "python",
   "nbconvert_exporter": "python",
   "pygments_lexer": "ipython3",
   "version": "3.8.0"
  }
 },
 "nbformat": 4,
 "nbformat_minor": 5
}
